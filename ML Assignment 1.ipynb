{
 "cells": [
  {
   "cell_type": "markdown",
   "id": "7c22ee07",
   "metadata": {},
   "source": [
    "# Machine Learning Assignment - Medical Insurance Cost with Linear Regression"
   ]
  },
  {
   "cell_type": "markdown",
   "id": "e36921df",
   "metadata": {},
   "source": [
    "  \n",
    "   \n",
    "## Sanket M. Bairagi\n",
    "**B.K.Birla College Kalyan.**  \n",
    "**M.sc. Data Science And Big Data Analytics. Part 1**"
   ]
  },
  {
   "cell_type": "markdown",
   "id": "b8cb8ad4",
   "metadata": {},
   "source": [
    "Dataset Link - https://www.kaggle.com/code/mariapushkareva/medical-insurance-cost-with-linear-regression/data"
   ]
  },
  {
   "cell_type": "markdown",
   "id": "390a717a",
   "metadata": {},
   "source": [
    "## Which Factors Influence the Price of Health Insurance?  \n",
    "  \n",
    "  \n",
    "  \n",
    "Many factors that affect how much you pay for health insurance are not within your control. Nonetheless, it's good to have an \n",
    "understanding of what they are.    \n",
    "    \n",
    "Here are some factors that affect how much health insurance premiums cost\n",
    "\n",
    "* **age** : age of primary beneficiary\n",
    "  \n",
    "* **sex** : insurance contractor gender, female, male\n",
    "  \n",
    "* **bmi** : Body mass index, providing an understanding of body, weights that are relatively high or low relative to height, objective index of body weight (kg / m ^ 2) using the ratio of height to weight, ideally 18.5 to 24.9\n",
    "  \n",
    "* **children** : Number of children covered by health insurance / Number of dependents\n",
    "  \n",
    "* **smoker** : Smoking\n",
    "  \n",
    "* **region** : the beneficiary's residential area in the US, northeast, southeast, southwest, northwest"
   ]
  },
  {
   "cell_type": "markdown",
   "id": "9d9af9b8",
   "metadata": {},
   "source": [
    "### EDA and Visualizations"
   ]
  },
  {
   "cell_type": "code",
   "execution_count": 85,
   "id": "54ded656",
   "metadata": {},
   "outputs": [],
   "source": [
    "# Importing libraries\n",
    "\n",
    "import pandas as pd\n",
    "import numpy as np\n",
    "import matplotlib.pyplot as plt\n",
    "import seaborn as sns\n",
    "\n",
    "import warnings\n",
    "warnings.filterwarnings(\"ignore\")"
   ]
  },
  {
   "cell_type": "code",
   "execution_count": 86,
   "id": "2e75da31",
   "metadata": {},
   "outputs": [],
   "source": [
    "# Reading \"insurance.csv\" Dataset.\n",
    "\n",
    "data= pd.read_csv(\"insurance.csv\")"
   ]
  },
  {
   "cell_type": "code",
   "execution_count": 87,
   "id": "0654fbb4",
   "metadata": {},
   "outputs": [
    {
     "data": {
      "text/html": [
       "<div>\n",
       "<style scoped>\n",
       "    .dataframe tbody tr th:only-of-type {\n",
       "        vertical-align: middle;\n",
       "    }\n",
       "\n",
       "    .dataframe tbody tr th {\n",
       "        vertical-align: top;\n",
       "    }\n",
       "\n",
       "    .dataframe thead th {\n",
       "        text-align: right;\n",
       "    }\n",
       "</style>\n",
       "<table border=\"1\" class=\"dataframe\">\n",
       "  <thead>\n",
       "    <tr style=\"text-align: right;\">\n",
       "      <th></th>\n",
       "      <th>age</th>\n",
       "      <th>sex</th>\n",
       "      <th>bmi</th>\n",
       "      <th>children</th>\n",
       "      <th>smoker</th>\n",
       "      <th>region</th>\n",
       "      <th>charges</th>\n",
       "    </tr>\n",
       "  </thead>\n",
       "  <tbody>\n",
       "    <tr>\n",
       "      <th>0</th>\n",
       "      <td>19</td>\n",
       "      <td>female</td>\n",
       "      <td>27.900</td>\n",
       "      <td>0</td>\n",
       "      <td>yes</td>\n",
       "      <td>southwest</td>\n",
       "      <td>16884.92400</td>\n",
       "    </tr>\n",
       "    <tr>\n",
       "      <th>1</th>\n",
       "      <td>18</td>\n",
       "      <td>male</td>\n",
       "      <td>33.770</td>\n",
       "      <td>1</td>\n",
       "      <td>no</td>\n",
       "      <td>southeast</td>\n",
       "      <td>1725.55230</td>\n",
       "    </tr>\n",
       "    <tr>\n",
       "      <th>2</th>\n",
       "      <td>28</td>\n",
       "      <td>male</td>\n",
       "      <td>33.000</td>\n",
       "      <td>3</td>\n",
       "      <td>no</td>\n",
       "      <td>southeast</td>\n",
       "      <td>4449.46200</td>\n",
       "    </tr>\n",
       "    <tr>\n",
       "      <th>3</th>\n",
       "      <td>33</td>\n",
       "      <td>male</td>\n",
       "      <td>22.705</td>\n",
       "      <td>0</td>\n",
       "      <td>no</td>\n",
       "      <td>northwest</td>\n",
       "      <td>21984.47061</td>\n",
       "    </tr>\n",
       "    <tr>\n",
       "      <th>4</th>\n",
       "      <td>32</td>\n",
       "      <td>male</td>\n",
       "      <td>28.880</td>\n",
       "      <td>0</td>\n",
       "      <td>no</td>\n",
       "      <td>northwest</td>\n",
       "      <td>3866.85520</td>\n",
       "    </tr>\n",
       "  </tbody>\n",
       "</table>\n",
       "</div>"
      ],
      "text/plain": [
       "   age     sex     bmi  children smoker     region      charges\n",
       "0   19  female  27.900         0    yes  southwest  16884.92400\n",
       "1   18    male  33.770         1     no  southeast   1725.55230\n",
       "2   28    male  33.000         3     no  southeast   4449.46200\n",
       "3   33    male  22.705         0     no  northwest  21984.47061\n",
       "4   32    male  28.880         0     no  northwest   3866.85520"
      ]
     },
     "execution_count": 87,
     "metadata": {},
     "output_type": "execute_result"
    }
   ],
   "source": [
    "# Top 5 Rows of DataSet.\n",
    "\n",
    "data.head()"
   ]
  },
  {
   "cell_type": "code",
   "execution_count": 88,
   "id": "24bf4391",
   "metadata": {},
   "outputs": [
    {
     "data": {
      "text/plain": [
       "(1338, 7)"
      ]
     },
     "execution_count": 88,
     "metadata": {},
     "output_type": "execute_result"
    }
   ],
   "source": [
    "# Shape of Dataset.\n",
    "\n",
    "data.shape"
   ]
  },
  {
   "cell_type": "markdown",
   "id": "ce986b70",
   "metadata": {},
   "source": [
    "\"insurance.csv\"  dataset conatints 1338 Rows and 7 Columns."
   ]
  },
  {
   "cell_type": "code",
   "execution_count": 89,
   "id": "97aa51cd",
   "metadata": {},
   "outputs": [
    {
     "data": {
      "text/plain": [
       "Index(['age', 'sex', 'bmi', 'children', 'smoker', 'region', 'charges'], dtype='object')"
      ]
     },
     "execution_count": 89,
     "metadata": {},
     "output_type": "execute_result"
    }
   ],
   "source": [
    "# Name of columns\n",
    "\n",
    "data.columns"
   ]
  },
  {
   "cell_type": "code",
   "execution_count": 90,
   "id": "0cc1bb08",
   "metadata": {},
   "outputs": [
    {
     "data": {
      "text/plain": [
       "age         0\n",
       "sex         0\n",
       "bmi         0\n",
       "children    0\n",
       "smoker      0\n",
       "region      0\n",
       "charges     0\n",
       "dtype: int64"
      ]
     },
     "execution_count": 90,
     "metadata": {},
     "output_type": "execute_result"
    }
   ],
   "source": [
    "# Check for null values.\n",
    "\n",
    "data.isnull().sum()"
   ]
  },
  {
   "cell_type": "markdown",
   "id": "cd17c3a7",
   "metadata": {},
   "source": [
    "We have 0 missing values which is excellent for further proceses."
   ]
  },
  {
   "cell_type": "code",
   "execution_count": 91,
   "id": "739f0dcc",
   "metadata": {},
   "outputs": [
    {
     "name": "stdout",
     "output_type": "stream",
     "text": [
      "<class 'pandas.core.frame.DataFrame'>\n",
      "RangeIndex: 1338 entries, 0 to 1337\n",
      "Data columns (total 7 columns):\n",
      " #   Column    Non-Null Count  Dtype  \n",
      "---  ------    --------------  -----  \n",
      " 0   age       1338 non-null   int64  \n",
      " 1   sex       1338 non-null   object \n",
      " 2   bmi       1338 non-null   float64\n",
      " 3   children  1338 non-null   int64  \n",
      " 4   smoker    1338 non-null   object \n",
      " 5   region    1338 non-null   object \n",
      " 6   charges   1338 non-null   float64\n",
      "dtypes: float64(2), int64(2), object(3)\n",
      "memory usage: 73.3+ KB\n"
     ]
    }
   ],
   "source": [
    "# information of datset\n",
    "\n",
    "data.info()"
   ]
  },
  {
   "cell_type": "markdown",
   "id": "c6e6fa63",
   "metadata": {},
   "source": [
    "dataset have float- 2 , int - 2 , object -3  datatype."
   ]
  },
  {
   "cell_type": "code",
   "execution_count": 92,
   "id": "3b4d32fe",
   "metadata": {},
   "outputs": [
    {
     "data": {
      "text/html": [
       "<div>\n",
       "<style scoped>\n",
       "    .dataframe tbody tr th:only-of-type {\n",
       "        vertical-align: middle;\n",
       "    }\n",
       "\n",
       "    .dataframe tbody tr th {\n",
       "        vertical-align: top;\n",
       "    }\n",
       "\n",
       "    .dataframe thead th {\n",
       "        text-align: right;\n",
       "    }\n",
       "</style>\n",
       "<table border=\"1\" class=\"dataframe\">\n",
       "  <thead>\n",
       "    <tr style=\"text-align: right;\">\n",
       "      <th></th>\n",
       "      <th>age</th>\n",
       "      <th>bmi</th>\n",
       "      <th>children</th>\n",
       "      <th>charges</th>\n",
       "    </tr>\n",
       "  </thead>\n",
       "  <tbody>\n",
       "    <tr>\n",
       "      <th>count</th>\n",
       "      <td>1338.000000</td>\n",
       "      <td>1338.000000</td>\n",
       "      <td>1338.000000</td>\n",
       "      <td>1338.000000</td>\n",
       "    </tr>\n",
       "    <tr>\n",
       "      <th>mean</th>\n",
       "      <td>39.207025</td>\n",
       "      <td>30.663397</td>\n",
       "      <td>1.094918</td>\n",
       "      <td>13270.422265</td>\n",
       "    </tr>\n",
       "    <tr>\n",
       "      <th>std</th>\n",
       "      <td>14.049960</td>\n",
       "      <td>6.098187</td>\n",
       "      <td>1.205493</td>\n",
       "      <td>12110.011237</td>\n",
       "    </tr>\n",
       "    <tr>\n",
       "      <th>min</th>\n",
       "      <td>18.000000</td>\n",
       "      <td>15.960000</td>\n",
       "      <td>0.000000</td>\n",
       "      <td>1121.873900</td>\n",
       "    </tr>\n",
       "    <tr>\n",
       "      <th>25%</th>\n",
       "      <td>27.000000</td>\n",
       "      <td>26.296250</td>\n",
       "      <td>0.000000</td>\n",
       "      <td>4740.287150</td>\n",
       "    </tr>\n",
       "    <tr>\n",
       "      <th>50%</th>\n",
       "      <td>39.000000</td>\n",
       "      <td>30.400000</td>\n",
       "      <td>1.000000</td>\n",
       "      <td>9382.033000</td>\n",
       "    </tr>\n",
       "    <tr>\n",
       "      <th>75%</th>\n",
       "      <td>51.000000</td>\n",
       "      <td>34.693750</td>\n",
       "      <td>2.000000</td>\n",
       "      <td>16639.912515</td>\n",
       "    </tr>\n",
       "    <tr>\n",
       "      <th>max</th>\n",
       "      <td>64.000000</td>\n",
       "      <td>53.130000</td>\n",
       "      <td>5.000000</td>\n",
       "      <td>63770.428010</td>\n",
       "    </tr>\n",
       "  </tbody>\n",
       "</table>\n",
       "</div>"
      ],
      "text/plain": [
       "               age          bmi     children       charges\n",
       "count  1338.000000  1338.000000  1338.000000   1338.000000\n",
       "mean     39.207025    30.663397     1.094918  13270.422265\n",
       "std      14.049960     6.098187     1.205493  12110.011237\n",
       "min      18.000000    15.960000     0.000000   1121.873900\n",
       "25%      27.000000    26.296250     0.000000   4740.287150\n",
       "50%      39.000000    30.400000     1.000000   9382.033000\n",
       "75%      51.000000    34.693750     2.000000  16639.912515\n",
       "max      64.000000    53.130000     5.000000  63770.428010"
      ]
     },
     "execution_count": 92,
     "metadata": {},
     "output_type": "execute_result"
    }
   ],
   "source": [
    "# Describing the dataset\n",
    "\n",
    "data.describe()"
   ]
  },
  {
   "cell_type": "markdown",
   "id": "3cf8c11f",
   "metadata": {},
   "source": [
    "in the dataset columns -  \n",
    "\n",
    "\"age\"         min - 18.000000 and max - 64.000000     \n",
    "\"bmi\"         min - 64.000000\tand max- 53.130000    \n",
    "\"children\"    min - 0 and max - 5  \n",
    "\"charges\"     min - 5.000000 and max - 5.000000  \n",
    "\n",
    "-----------------------------------------------------  \n",
    "\n",
    "Average -\n",
    "\n",
    "\"age\" - 39.207025  \n",
    "\"bmi\" - 30.663397  \n",
    "\"children\" - 1.094918  \n",
    "\"charges\" - 13270.422265\n",
    "\n",
    "-----------------------------------------------------  \n",
    "\n"
   ]
  },
  {
   "cell_type": "code",
   "execution_count": 93,
   "id": "0f8016ce",
   "metadata": {},
   "outputs": [
    {
     "data": {
      "text/plain": [
       "no     1064\n",
       "yes     274\n",
       "Name: smoker, dtype: int64"
      ]
     },
     "execution_count": 93,
     "metadata": {},
     "output_type": "execute_result"
    }
   ],
   "source": [
    "# counts\n",
    "\n",
    "data[\"smoker\"].value_counts()"
   ]
  },
  {
   "cell_type": "code",
   "execution_count": 94,
   "id": "8a6df727",
   "metadata": {},
   "outputs": [
    {
     "data": {
      "text/plain": [
       "sex     smoker\n",
       "female  no        547\n",
       "        yes       115\n",
       "male    no        517\n",
       "        yes       159\n",
       "Name: smoker, dtype: int64"
      ]
     },
     "execution_count": 94,
     "metadata": {},
     "output_type": "execute_result"
    }
   ],
   "source": [
    "data.groupby([\"sex\"])[\"smoker\"].value_counts()"
   ]
  },
  {
   "cell_type": "code",
   "execution_count": 95,
   "id": "671a2016",
   "metadata": {},
   "outputs": [
    {
     "data": {
      "text/plain": [
       "southeast    364\n",
       "southwest    325\n",
       "northwest    325\n",
       "northeast    324\n",
       "Name: region, dtype: int64"
      ]
     },
     "execution_count": 95,
     "metadata": {},
     "output_type": "execute_result"
    }
   ],
   "source": [
    "data[\"region\"].value_counts()"
   ]
  },
  {
   "cell_type": "code",
   "execution_count": 96,
   "id": "dadd0183",
   "metadata": {},
   "outputs": [
    {
     "data": {
      "text/plain": [
       "smoker\n",
       "no     8.974061e+06\n",
       "yes    8.781764e+06\n",
       "Name: charges, dtype: float64"
      ]
     },
     "execution_count": 96,
     "metadata": {},
     "output_type": "execute_result"
    }
   ],
   "source": [
    "data.groupby([\"smoker\"])[\"charges\"].sum()"
   ]
  },
  {
   "cell_type": "code",
   "execution_count": 97,
   "id": "fe0d59e4",
   "metadata": {},
   "outputs": [
    {
     "name": "stdout",
     "output_type": "stream",
     "text": [
      "no   8974061.0\n",
      "yes  8781764.0\n"
     ]
    }
   ],
   "source": [
    "# smoker\n",
    "print(\"no  \",8.974061e+06)\n",
    "print(\"yes \",8.781764e+06)"
   ]
  },
  {
   "cell_type": "code",
   "execution_count": 98,
   "id": "b41b4046",
   "metadata": {},
   "outputs": [
    {
     "data": {
      "text/plain": [
       "sex     region   \n",
       "female  southeast    175\n",
       "        northwest    164\n",
       "        southwest    162\n",
       "        northeast    161\n",
       "male    southeast    189\n",
       "        northeast    163\n",
       "        southwest    163\n",
       "        northwest    161\n",
       "Name: region, dtype: int64"
      ]
     },
     "execution_count": 98,
     "metadata": {},
     "output_type": "execute_result"
    }
   ],
   "source": [
    "# count of males and females belongs to regions\n",
    "data.groupby([\"sex\"])[\"region\"].value_counts()"
   ]
  },
  {
   "cell_type": "markdown",
   "id": "8115292f",
   "metadata": {},
   "source": [
    "## Visualizations"
   ]
  },
  {
   "cell_type": "code",
   "execution_count": 169,
   "id": "dfa78886",
   "metadata": {},
   "outputs": [
    {
     "data": {
      "image/png": "[encoded data removed]",
      "text/plain": [
       "<Figure size 576x432 with 1 Axes>"
      ]
     },
     "metadata": {
      "needs_background": "light"
     },
     "output_type": "display_data"
    }
   ],
   "source": [
    "# bar plot for count of males and females.\n",
    "plt.subplots(figsize=(8,6))\n",
    "plt.title(\"Count of Male's and Female's\")\n",
    "sns.countplot(\"sex\",data=data,palette=(\"plasma\"),)\n",
    "plt.show()\n"
   ]
  },
  {
   "cell_type": "markdown",
   "id": "7284d389",
   "metadata": {},
   "source": [
    "Count of Male is slightly greater than count of females."
   ]
  },
  {
   "cell_type": "code",
   "execution_count": 100,
   "id": "a56fbaa4",
   "metadata": {},
   "outputs": [
    {
     "data": {
      "image/png": "[encoded data removed]",
      "text/plain": [
       "<Figure size 576x432 with 1 Axes>"
      ]
     },
     "metadata": {
      "needs_background": "light"
     },
     "output_type": "display_data"
    }
   ],
   "source": [
    "# cont of clients in diffrent regions.\n",
    "plt.subplots(figsize=(8,6))\n",
    "plt.title(\"cont of clients in diffrent regions.\")\n",
    "sns.countplot(\"region\",data=data)\n",
    "plt.show()"
   ]
  },
  {
   "cell_type": "markdown",
   "id": "940bbb72",
   "metadata": {},
   "source": [
    "Maximum peoples belongs to **southest** and count of **southwest**, **northwest**,**northeast** are approximatly equal"
   ]
  },
  {
   "cell_type": "code",
   "execution_count": 101,
   "id": "d9d2f042",
   "metadata": {},
   "outputs": [
    {
     "data": {
      "image/png": "[encoded data removed]",
      "text/plain": [
       "<Figure size 576x432 with 1 Axes>"
      ]
     },
     "metadata": {
      "needs_background": "light"
     },
     "output_type": "display_data"
    }
   ],
   "source": [
    "#cont of smokers\n",
    "plt.subplots(figsize=(8,6))\n",
    "plt.title(\"Count of Smokers\")\n",
    "sns.countplot(\"smoker\",data=data)\n",
    "plt.show()"
   ]
  },
  {
   "cell_type": "markdown",
   "id": "366340a8",
   "metadata": {},
   "source": [
    "As above graph very few people have smooking habbit."
   ]
  },
  {
   "cell_type": "code",
   "execution_count": 102,
   "id": "0d19d206",
   "metadata": {},
   "outputs": [
    {
     "data": {
      "image/png": "[encoded data removed]",
      "text/plain": [
       "<Figure size 360x360 with 1 Axes>"
      ]
     },
     "metadata": {
      "needs_background": "light"
     },
     "output_type": "display_data"
    }
   ],
   "source": [
    "# charegs paid by femals and males\n",
    "sns.catplot(x=\"sex\",y=\"charges\",kind=\"bar\",data=data)\n",
    "plt.title(\"Charegs vs sex bar graph\")\n",
    "plt.show()"
   ]
  },
  {
   "cell_type": "markdown",
   "id": "0d165a4e",
   "metadata": {},
   "source": [
    "males client paying the charegs for health insurance than female client."
   ]
  },
  {
   "cell_type": "code",
   "execution_count": 103,
   "id": "30e1dc7d",
   "metadata": {},
   "outputs": [
    {
     "data": {
      "image/png": "[encoded data removed]",
      "text/plain": [
       "<Figure size 1440x576 with 2 Axes>"
      ]
     },
     "metadata": {
      "needs_background": "light"
     },
     "output_type": "display_data"
    }
   ],
   "source": [
    "plt.figure(figsize=(20,8))\n",
    "\n",
    "plt.subplot(1,2,1)\n",
    "plt.title('Distribution Plot Fot Age')\n",
    "sns.distplot(data.age)\n",
    "plt.axvline(data.age.mean(), color=\"r\")\n",
    "plt.axvline(data.age.median(), color=\"b\")\n",
    "\n",
    "plt.subplot(1,2,2)\n",
    "plt.title('Box Plot for Agr')\n",
    "sns.boxplot(y=data.age, palette=(\"rainbow\"))\n",
    "\n",
    "plt.show()"
   ]
  },
  {
   "cell_type": "markdown",
   "id": "b4e2cdac",
   "metadata": {},
   "source": [
    "age of the clients is uniformally distributed. maximum count is for age 18-19 age group.\n"
   ]
  },
  {
   "cell_type": "code",
   "execution_count": 104,
   "id": "a9473469",
   "metadata": {},
   "outputs": [
    {
     "name": "stdout",
     "output_type": "stream",
     "text": [
      "Average age -  39.20702541106129\n",
      "median of age  39.0\n"
     ]
    }
   ],
   "source": [
    "print(\"Average age - \",data.age.mean())\n",
    "print(\"median of age \",data.age.median())"
   ]
  },
  {
   "cell_type": "code",
   "execution_count": 105,
   "id": "599f34d0",
   "metadata": {},
   "outputs": [
    {
     "data": {
      "image/png": "[encoded data removed]",
      "text/plain": [
       "<Figure size 1440x576 with 2 Axes>"
      ]
     },
     "metadata": {
      "needs_background": "light"
     },
     "output_type": "display_data"
    }
   ],
   "source": [
    "plt.figure(figsize=(20,8))\n",
    "\n",
    "plt.subplot(1,2,1)\n",
    "plt.title('Distribution Plot Fot BMI')\n",
    "sns.distplot(data.bmi)\n",
    "plt.axvline(data.bmi.mean(), color=\"r\")\n",
    "plt.axvline(data.bmi.median(), color=\"b\")\n",
    "\n",
    "plt.subplot(1,2,2)\n",
    "plt.title('Box Plot for BMI')\n",
    "sns.boxplot(y=data.bmi, palette=(\"cubehelix\"))\n",
    "\n",
    "plt.show()"
   ]
  },
  {
   "cell_type": "markdown",
   "id": "75075f84",
   "metadata": {},
   "source": [
    "in the dataset bmi is normally distributed.\n",
    "some outliers are present in the dataset.\n"
   ]
  },
  {
   "cell_type": "code",
   "execution_count": 106,
   "id": "c4205d01",
   "metadata": {},
   "outputs": [
    {
     "name": "stdout",
     "output_type": "stream",
     "text": [
      "Average bmi -  30.663396860986538\n",
      "median of bmi -  30.4\n"
     ]
    }
   ],
   "source": [
    "print(\"Average bmi - \",data.bmi.mean())\n",
    "print(\"median of bmi - \",data.bmi.median())"
   ]
  },
  {
   "cell_type": "code",
   "execution_count": 107,
   "id": "cf56ed4a",
   "metadata": {},
   "outputs": [
    {
     "data": {
      "image/png": "[encoded data removed]",
      "text/plain": [
       "<Figure size 1440x576 with 2 Axes>"
      ]
     },
     "metadata": {
      "needs_background": "light"
     },
     "output_type": "display_data"
    }
   ],
   "source": [
    "plt.figure(figsize=(20,8))\n",
    "\n",
    "plt.subplot(1,2,1)\n",
    "plt.title('Distribution Plot Fot charges')\n",
    "sns.distplot(data.charges,kde=False)\n",
    "plt.axvline(data.charges.mean(), color=\"r\")\n",
    "plt.axvline(data.charges.median(), color=\"b\")\n",
    "\n",
    "plt.subplot(1,2,2)\n",
    "plt.title('Box Plot for charges')\n",
    "sns.boxplot(y=data.charges, palette=(\"cubehelix\"))\n",
    "\n",
    "plt.show()"
   ]
  },
  {
   "cell_type": "markdown",
   "id": "99acc9ac",
   "metadata": {},
   "source": [
    "This distribution is right-skewed.\n",
    "Many clients spends money within USD 1121 to USD 13000 over heath insuarnece , very few clients spends more than USD 50000 on insuarence.  \n",
    "the the charges column many outliers are presemt."
   ]
  },
  {
   "cell_type": "code",
   "execution_count": 108,
   "id": "5af1c7f6",
   "metadata": {},
   "outputs": [
    {
     "data": {
      "image/png": "[encoded data removed]",
      "text/plain": [
       "<Figure size 1080x648 with 1 Axes>"
      ]
     },
     "metadata": {
      "needs_background": "light"
     },
     "output_type": "display_data"
    }
   ],
   "source": [
    "plt.figure(figsize=(15,9))\n",
    "sns.boxplot(x=\"region\", y=\"charges\", data=data, palette=\"rainbow\")\n",
    "plt.show()"
   ]
  },
  {
   "cell_type": "markdown",
   "id": "cd31105c",
   "metadata": {},
   "source": [
    "maximum client from region southeast and minimum form southwest.\n"
   ]
  },
  {
   "cell_type": "code",
   "execution_count": 109,
   "id": "6842260a",
   "metadata": {},
   "outputs": [
    {
     "data": {
      "image/png": "[encoded data removed]",
      "text/plain": [
       "<Figure size 413.25x360 with 1 Axes>"
      ]
     },
     "metadata": {
      "needs_background": "light"
     },
     "output_type": "display_data"
    }
   ],
   "source": [
    "sns.lmplot(x=\"age\",y=\"charges\",data=data,hue=\"smoker\")\n",
    "plt.title(\"age vs charges\")\n",
    "plt.show()"
   ]
  },
  {
   "cell_type": "markdown",
   "id": "77f88c75",
   "metadata": {},
   "source": [
    "Smoking has the highest impact on medical costs, even though the costs is growing with age."
   ]
  },
  {
   "cell_type": "code",
   "execution_count": 110,
   "id": "aca7c384",
   "metadata": {},
   "outputs": [
    {
     "data": {
      "image/png": "[encoded data removed]",
      "text/plain": [
       "<Figure size 413.25x360 with 1 Axes>"
      ]
     },
     "metadata": {
      "needs_background": "light"
     },
     "output_type": "display_data"
    }
   ],
   "source": [
    "sns.lmplot(x=\"bmi\",y=\"charges\",data=data,hue=\"smoker\")\n",
    "plt.title(\"bmi vs charges\")\n",
    "plt.show()"
   ]
  },
  {
   "cell_type": "markdown",
   "id": "bfabd8bf",
   "metadata": {},
   "source": [
    "Smoking has the highest impact on medical costs, even though the costs is growing with bmi."
   ]
  },
  {
   "cell_type": "code",
   "execution_count": 111,
   "id": "f653ef20",
   "metadata": {},
   "outputs": [
    {
     "data": {
      "image/png": "[encoded data removed]",
      "text/plain": [
       "<Figure size 413.25x360 with 1 Axes>"
      ]
     },
     "metadata": {
      "needs_background": "light"
     },
     "output_type": "display_data"
    }
   ],
   "source": [
    "sns.lmplot(x=\"children\",y=\"charges\",data=data,hue=\"smoker\")\n",
    "plt.title(\"children vs charges\")\n",
    "plt.show()"
   ]
  },
  {
   "cell_type": "markdown",
   "id": "3f68a661",
   "metadata": {},
   "source": [
    "people who have children generally smoke less.also people who smoke spends charges more on the insurance."
   ]
  },
  {
   "cell_type": "markdown",
   "id": "5ab0fc97",
   "metadata": {},
   "source": [
    "### Dummy Variables / Dummification / One Hot Encoding"
   ]
  },
  {
   "cell_type": "code",
   "execution_count": 112,
   "id": "11296224",
   "metadata": {},
   "outputs": [
    {
     "data": {
      "text/html": [
       "<div>\n",
       "<style scoped>\n",
       "    .dataframe tbody tr th:only-of-type {\n",
       "        vertical-align: middle;\n",
       "    }\n",
       "\n",
       "    .dataframe tbody tr th {\n",
       "        vertical-align: top;\n",
       "    }\n",
       "\n",
       "    .dataframe thead th {\n",
       "        text-align: right;\n",
       "    }\n",
       "</style>\n",
       "<table border=\"1\" class=\"dataframe\">\n",
       "  <thead>\n",
       "    <tr style=\"text-align: right;\">\n",
       "      <th></th>\n",
       "      <th>sex</th>\n",
       "      <th>smoker</th>\n",
       "      <th>region</th>\n",
       "    </tr>\n",
       "  </thead>\n",
       "  <tbody>\n",
       "    <tr>\n",
       "      <th>0</th>\n",
       "      <td>female</td>\n",
       "      <td>yes</td>\n",
       "      <td>southwest</td>\n",
       "    </tr>\n",
       "    <tr>\n",
       "      <th>1</th>\n",
       "      <td>male</td>\n",
       "      <td>no</td>\n",
       "      <td>southeast</td>\n",
       "    </tr>\n",
       "    <tr>\n",
       "      <th>2</th>\n",
       "      <td>male</td>\n",
       "      <td>no</td>\n",
       "      <td>southeast</td>\n",
       "    </tr>\n",
       "    <tr>\n",
       "      <th>3</th>\n",
       "      <td>male</td>\n",
       "      <td>no</td>\n",
       "      <td>northwest</td>\n",
       "    </tr>\n",
       "    <tr>\n",
       "      <th>4</th>\n",
       "      <td>male</td>\n",
       "      <td>no</td>\n",
       "      <td>northwest</td>\n",
       "    </tr>\n",
       "  </tbody>\n",
       "</table>\n",
       "</div>"
      ],
      "text/plain": [
       "      sex smoker     region\n",
       "0  female    yes  southwest\n",
       "1    male     no  southeast\n",
       "2    male     no  southeast\n",
       "3    male     no  northwest\n",
       "4    male     no  northwest"
      ]
     },
     "execution_count": 112,
     "metadata": {},
     "output_type": "execute_result"
    }
   ],
   "source": [
    "data.select_dtypes([\"object\"]).head()"
   ]
  },
  {
   "cell_type": "markdown",
   "id": "b92c1c09",
   "metadata": {},
   "source": [
    "we have 3 categorical datatype. \n",
    "1. sex - showing gender of clients.\n",
    "2. smoker - showing smoking habit as yes or no.\n",
    "3. region- there is 4 region."
   ]
  },
  {
   "cell_type": "code",
   "execution_count": 113,
   "id": "e821f899",
   "metadata": {},
   "outputs": [
    {
     "data": {
      "text/plain": [
       "['sex', 'smoker', 'region']"
      ]
     },
     "execution_count": 113,
     "metadata": {},
     "output_type": "execute_result"
    }
   ],
   "source": [
    "cat_cols=list(data.select_dtypes([\"object\",\"category\"]))\n",
    "cat_cols"
   ]
  },
  {
   "cell_type": "code",
   "execution_count": 114,
   "id": "873324db",
   "metadata": {},
   "outputs": [
    {
     "data": {
      "text/html": [
       "<div>\n",
       "<style scoped>\n",
       "    .dataframe tbody tr th:only-of-type {\n",
       "        vertical-align: middle;\n",
       "    }\n",
       "\n",
       "    .dataframe tbody tr th {\n",
       "        vertical-align: top;\n",
       "    }\n",
       "\n",
       "    .dataframe thead th {\n",
       "        text-align: right;\n",
       "    }\n",
       "</style>\n",
       "<table border=\"1\" class=\"dataframe\">\n",
       "  <thead>\n",
       "    <tr style=\"text-align: right;\">\n",
       "      <th></th>\n",
       "      <th>age</th>\n",
       "      <th>bmi</th>\n",
       "      <th>children</th>\n",
       "      <th>charges</th>\n",
       "      <th>sex_male</th>\n",
       "      <th>smoker_yes</th>\n",
       "      <th>region_northwest</th>\n",
       "      <th>region_southeast</th>\n",
       "      <th>region_southwest</th>\n",
       "    </tr>\n",
       "  </thead>\n",
       "  <tbody>\n",
       "    <tr>\n",
       "      <th>0</th>\n",
       "      <td>19</td>\n",
       "      <td>27.900</td>\n",
       "      <td>0</td>\n",
       "      <td>16884.92400</td>\n",
       "      <td>0</td>\n",
       "      <td>1</td>\n",
       "      <td>0</td>\n",
       "      <td>0</td>\n",
       "      <td>1</td>\n",
       "    </tr>\n",
       "    <tr>\n",
       "      <th>1</th>\n",
       "      <td>18</td>\n",
       "      <td>33.770</td>\n",
       "      <td>1</td>\n",
       "      <td>1725.55230</td>\n",
       "      <td>1</td>\n",
       "      <td>0</td>\n",
       "      <td>0</td>\n",
       "      <td>1</td>\n",
       "      <td>0</td>\n",
       "    </tr>\n",
       "    <tr>\n",
       "      <th>2</th>\n",
       "      <td>28</td>\n",
       "      <td>33.000</td>\n",
       "      <td>3</td>\n",
       "      <td>4449.46200</td>\n",
       "      <td>1</td>\n",
       "      <td>0</td>\n",
       "      <td>0</td>\n",
       "      <td>1</td>\n",
       "      <td>0</td>\n",
       "    </tr>\n",
       "    <tr>\n",
       "      <th>3</th>\n",
       "      <td>33</td>\n",
       "      <td>22.705</td>\n",
       "      <td>0</td>\n",
       "      <td>21984.47061</td>\n",
       "      <td>1</td>\n",
       "      <td>0</td>\n",
       "      <td>1</td>\n",
       "      <td>0</td>\n",
       "      <td>0</td>\n",
       "    </tr>\n",
       "    <tr>\n",
       "      <th>4</th>\n",
       "      <td>32</td>\n",
       "      <td>28.880</td>\n",
       "      <td>0</td>\n",
       "      <td>3866.85520</td>\n",
       "      <td>1</td>\n",
       "      <td>0</td>\n",
       "      <td>1</td>\n",
       "      <td>0</td>\n",
       "      <td>0</td>\n",
       "    </tr>\n",
       "  </tbody>\n",
       "</table>\n",
       "</div>"
      ],
      "text/plain": [
       "   age     bmi  children      charges  sex_male  smoker_yes  region_northwest  \\\n",
       "0   19  27.900         0  16884.92400         0           1                 0   \n",
       "1   18  33.770         1   1725.55230         1           0                 0   \n",
       "2   28  33.000         3   4449.46200         1           0                 0   \n",
       "3   33  22.705         0  21984.47061         1           0                 1   \n",
       "4   32  28.880         0   3866.85520         1           0                 1   \n",
       "\n",
       "   region_southeast  region_southwest  \n",
       "0                 0                 1  \n",
       "1                 1                 0  \n",
       "2                 1                 0  \n",
       "3                 0                 0  \n",
       "4                 0                 0  "
      ]
     },
     "execution_count": 114,
     "metadata": {},
     "output_type": "execute_result"
    }
   ],
   "source": [
    "data_1=pd.get_dummies(data,columns=cat_cols,drop_first=True)\n",
    "data_1.head()"
   ]
  },
  {
   "cell_type": "code",
   "execution_count": 115,
   "id": "c32240fe",
   "metadata": {},
   "outputs": [
    {
     "data": {
      "text/plain": [
       "(1338, 9)"
      ]
     },
     "execution_count": 115,
     "metadata": {},
     "output_type": "execute_result"
    }
   ],
   "source": [
    "data_1.shape"
   ]
  },
  {
   "cell_type": "code",
   "execution_count": 116,
   "id": "523107ac",
   "metadata": {},
   "outputs": [
    {
     "name": "stdout",
     "output_type": "stream",
     "text": [
      "<class 'pandas.core.frame.DataFrame'>\n",
      "RangeIndex: 1338 entries, 0 to 1337\n",
      "Data columns (total 9 columns):\n",
      " #   Column            Non-Null Count  Dtype  \n",
      "---  ------            --------------  -----  \n",
      " 0   age               1338 non-null   int64  \n",
      " 1   bmi               1338 non-null   float64\n",
      " 2   children          1338 non-null   int64  \n",
      " 3   charges           1338 non-null   float64\n",
      " 4   sex_male          1338 non-null   uint8  \n",
      " 5   smoker_yes        1338 non-null   uint8  \n",
      " 6   region_northwest  1338 non-null   uint8  \n",
      " 7   region_southeast  1338 non-null   uint8  \n",
      " 8   region_southwest  1338 non-null   uint8  \n",
      "dtypes: float64(2), int64(2), uint8(5)\n",
      "memory usage: 48.5 KB\n"
     ]
    }
   ],
   "source": [
    "data_1.info()"
   ]
  },
  {
   "cell_type": "markdown",
   "id": "aa60afd2",
   "metadata": {},
   "source": [
    "All categorycal column is converted into numeric datatype."
   ]
  },
  {
   "cell_type": "code",
   "execution_count": 117,
   "id": "aa15473c",
   "metadata": {},
   "outputs": [],
   "source": [
    "# making X as a independent variable and y as a dependent veraible.\n",
    "\n",
    "X=data_1.drop([\"charges\"],axis=1)\n",
    "y=data_1[\"charges\"]"
   ]
  },
  {
   "cell_type": "code",
   "execution_count": 118,
   "id": "bbb556fc",
   "metadata": {},
   "outputs": [],
   "source": [
    "# train_test split\n",
    "\n",
    "from sklearn.model_selection import train_test_split\n",
    "\n",
    "X_train,X_test,y_train,y_test=train_test_split(X,y,random_state=100,test_size=.25)"
   ]
  },
  {
   "cell_type": "code",
   "execution_count": 119,
   "id": "0de4c5bb",
   "metadata": {},
   "outputs": [
    {
     "name": "stdout",
     "output_type": "stream",
     "text": [
      "X_train shape  -   (1003, 8)\n",
      "X_test shape   -   (335, 8)\n",
      "--------------------------------------------------\n",
      "y_train shape  -   (1003,)\n",
      "y_test shape   -   (335,)\n"
     ]
    }
   ],
   "source": [
    "print(\"X_train shape  -  \",X_train.shape)\n",
    "print(\"X_test shape   -  \",X_test.shape)\n",
    "print(\"-\"*50)\n",
    "print(\"y_train shape  -  \",y_train.shape)\n",
    "print(\"y_test shape   -  \",y_test.shape)"
   ]
  },
  {
   "cell_type": "code",
   "execution_count": 120,
   "id": "6a173c50",
   "metadata": {},
   "outputs": [
    {
     "name": "stdout",
     "output_type": "stream",
     "text": [
      "y_train shape  -   (1003, 1)\n",
      "y_test shape   -   (335, 1)\n"
     ]
    }
   ],
   "source": [
    "y_train=y_train.values.reshape(-1,1)\n",
    "y_test=y_test.values.reshape(-1,1)\n",
    "print(\"y_train shape  -  \",y_train.shape)\n",
    "print(\"y_test shape   -  \",y_test.shape)"
   ]
  },
  {
   "cell_type": "code",
   "execution_count": 121,
   "id": "abfa7a97",
   "metadata": {},
   "outputs": [
    {
     "data": {
      "text/plain": [
       "<AxesSubplot:>"
      ]
     },
     "execution_count": 121,
     "metadata": {},
     "output_type": "execute_result"
    },
    {
     "data": {
      "image/png": "[encoded data removed]",
      "text/plain": [
       "<Figure size 2160x1800 with 2 Axes>"
      ]
     },
     "metadata": {
      "needs_background": "light"
     },
     "output_type": "display_data"
    }
   ],
   "source": [
    "plt.figure(figsize = (30, 25))\n",
    "sns.heatmap(data_1.corr(),annot = True, cmap=\"YlGnBu\")"
   ]
  },
  {
   "cell_type": "markdown",
   "id": "96c34c58",
   "metadata": {},
   "source": [
    "from above heatmap smoker vs charegse has high correlation also bmi and age js also correlated to charges."
   ]
  },
  {
   "cell_type": "code",
   "execution_count": 122,
   "id": "ad3f135e",
   "metadata": {},
   "outputs": [],
   "source": [
    "# Data need scalling.\n",
    "from sklearn.preprocessing import MinMaxScaler\n",
    "sc=MinMaxScaler()\n",
    "num_var=[\"age\",\"bmi\"]\n",
    "X_train[num_var]=sc.fit_transform(X_train[num_var])\n",
    "X_test[num_var]=sc.transform(X_test[num_var])"
   ]
  },
  {
   "cell_type": "code",
   "execution_count": 123,
   "id": "3196f02a",
   "metadata": {},
   "outputs": [
    {
     "data": {
      "text/html": [
       "<div>\n",
       "<style scoped>\n",
       "    .dataframe tbody tr th:only-of-type {\n",
       "        vertical-align: middle;\n",
       "    }\n",
       "\n",
       "    .dataframe tbody tr th {\n",
       "        vertical-align: top;\n",
       "    }\n",
       "\n",
       "    .dataframe thead th {\n",
       "        text-align: right;\n",
       "    }\n",
       "</style>\n",
       "<table border=\"1\" class=\"dataframe\">\n",
       "  <thead>\n",
       "    <tr style=\"text-align: right;\">\n",
       "      <th></th>\n",
       "      <th>age</th>\n",
       "      <th>bmi</th>\n",
       "      <th>children</th>\n",
       "      <th>sex_male</th>\n",
       "      <th>smoker_yes</th>\n",
       "      <th>region_northwest</th>\n",
       "      <th>region_southeast</th>\n",
       "      <th>region_southwest</th>\n",
       "    </tr>\n",
       "  </thead>\n",
       "  <tbody>\n",
       "    <tr>\n",
       "      <th>12</th>\n",
       "      <td>0.108696</td>\n",
       "      <td>0.496099</td>\n",
       "      <td>0</td>\n",
       "      <td>1</td>\n",
       "      <td>0</td>\n",
       "      <td>0</td>\n",
       "      <td>0</td>\n",
       "      <td>1</td>\n",
       "    </tr>\n",
       "    <tr>\n",
       "      <th>306</th>\n",
       "      <td>0.217391</td>\n",
       "      <td>0.310465</td>\n",
       "      <td>2</td>\n",
       "      <td>0</td>\n",
       "      <td>0</td>\n",
       "      <td>0</td>\n",
       "      <td>0</td>\n",
       "      <td>1</td>\n",
       "    </tr>\n",
       "    <tr>\n",
       "      <th>318</th>\n",
       "      <td>0.565217</td>\n",
       "      <td>0.314366</td>\n",
       "      <td>0</td>\n",
       "      <td>0</td>\n",
       "      <td>0</td>\n",
       "      <td>1</td>\n",
       "      <td>0</td>\n",
       "      <td>0</td>\n",
       "    </tr>\n",
       "    <tr>\n",
       "      <th>815</th>\n",
       "      <td>0.043478</td>\n",
       "      <td>0.417003</td>\n",
       "      <td>0</td>\n",
       "      <td>0</td>\n",
       "      <td>0</td>\n",
       "      <td>0</td>\n",
       "      <td>1</td>\n",
       "      <td>0</td>\n",
       "    </tr>\n",
       "    <tr>\n",
       "      <th>157</th>\n",
       "      <td>0.000000</td>\n",
       "      <td>0.247915</td>\n",
       "      <td>0</td>\n",
       "      <td>1</td>\n",
       "      <td>1</td>\n",
       "      <td>0</td>\n",
       "      <td>0</td>\n",
       "      <td>0</td>\n",
       "    </tr>\n",
       "  </tbody>\n",
       "</table>\n",
       "</div>"
      ],
      "text/plain": [
       "          age       bmi  children  sex_male  smoker_yes  region_northwest  \\\n",
       "12   0.108696  0.496099         0         1           0                 0   \n",
       "306  0.217391  0.310465         2         0           0                 0   \n",
       "318  0.565217  0.314366         0         0           0                 1   \n",
       "815  0.043478  0.417003         0         0           0                 0   \n",
       "157  0.000000  0.247915         0         1           1                 0   \n",
       "\n",
       "     region_southeast  region_southwest  \n",
       "12                  0                 1  \n",
       "306                 0                 1  \n",
       "318                 0                 0  \n",
       "815                 1                 0  \n",
       "157                 0                 0  "
      ]
     },
     "execution_count": 123,
     "metadata": {},
     "output_type": "execute_result"
    }
   ],
   "source": [
    "X_test.head()"
   ]
  },
  {
   "cell_type": "code",
   "execution_count": 124,
   "id": "65c98772",
   "metadata": {},
   "outputs": [],
   "source": [
    "y_train=sc.fit_transform(y_train)\n",
    "y_test=sc.transform(y_test)"
   ]
  },
  {
   "cell_type": "code",
   "execution_count": 125,
   "id": "2a4ee1b8",
   "metadata": {},
   "outputs": [
    {
     "data": {
      "text/plain": [
       "0.7807756903022633"
      ]
     },
     "execution_count": 125,
     "metadata": {},
     "output_type": "execute_result"
    }
   ],
   "source": [
    "from sklearn.linear_model import LinearRegression\n",
    "lr=LinearRegression()\n",
    "lr.fit(X_train,y_train)\n",
    "lr.score(X_test,y_test)"
   ]
  },
  {
   "cell_type": "markdown",
   "id": "47f2b1aa",
   "metadata": {},
   "source": [
    "we get 78.07 % accuresy for Linear regression."
   ]
  },
  {
   "cell_type": "markdown",
   "id": "aac0381d",
   "metadata": {},
   "source": [
    "### Model Building"
   ]
  },
  {
   "cell_type": "markdown",
   "id": "1754ae00",
   "metadata": {},
   "source": [
    "### RFE - "
   ]
  },
  {
   "cell_type": "code",
   "execution_count": 126,
   "id": "c66c72cb",
   "metadata": {},
   "outputs": [],
   "source": [
    "# importing libraries.\n",
    "from sklearn.feature_selection import RFE\n",
    "import statsmodels.api as sm"
   ]
  },
  {
   "cell_type": "code",
   "execution_count": 127,
   "id": "8837fe9e",
   "metadata": {},
   "outputs": [
    {
     "data": {
      "text/plain": [
       "Index(['age', 'bmi', 'children', 'sex_male', 'smoker_yes', 'region_northwest',\n",
       "       'region_southeast', 'region_southwest'],\n",
       "      dtype='object')"
      ]
     },
     "execution_count": 127,
     "metadata": {},
     "output_type": "execute_result"
    }
   ],
   "source": [
    "X_train.columns"
   ]
  },
  {
   "cell_type": "code",
   "execution_count": 128,
   "id": "b60d8b9a",
   "metadata": {},
   "outputs": [
    {
     "data": {
      "text/plain": [
       "8"
      ]
     },
     "execution_count": 128,
     "metadata": {},
     "output_type": "execute_result"
    }
   ],
   "source": [
    "len(X_train.columns)"
   ]
  },
  {
   "cell_type": "markdown",
   "id": "aecd554e",
   "metadata": {},
   "source": [
    "data have 8 independent columns in which many of them are not required to be include in the model, so we have to remove them to get better accurecy."
   ]
  },
  {
   "cell_type": "code",
   "execution_count": 129,
   "id": "3578c833",
   "metadata": {},
   "outputs": [],
   "source": [
    "# we selecting any best 6 columns out of 8 \n",
    "lm= LinearRegression()\n",
    "rfe= RFE(lm,n_features_to_select=6)\n",
    "rfe=rfe.fit(X_train,y_train)"
   ]
  },
  {
   "cell_type": "code",
   "execution_count": 130,
   "id": "30d91b64",
   "metadata": {},
   "outputs": [
    {
     "data": {
      "text/plain": [
       "array([ True,  True, False, False,  True,  True,  True,  True])"
      ]
     },
     "execution_count": 130,
     "metadata": {},
     "output_type": "execute_result"
    }
   ],
   "source": [
    "rfe.support_"
   ]
  },
  {
   "cell_type": "code",
   "execution_count": 131,
   "id": "5a7568c6",
   "metadata": {},
   "outputs": [
    {
     "data": {
      "text/plain": [
       "Index(['age', 'bmi', 'smoker_yes', 'region_northwest', 'region_southeast',\n",
       "       'region_southwest'],\n",
       "      dtype='object')"
      ]
     },
     "execution_count": 131,
     "metadata": {},
     "output_type": "execute_result"
    }
   ],
   "source": [
    "# selected columns\n",
    "X_train.loc[:,rfe.support_].columns"
   ]
  },
  {
   "cell_type": "code",
   "execution_count": 132,
   "id": "84eefd1d",
   "metadata": {},
   "outputs": [
    {
     "data": {
      "text/plain": [
       "array([1, 1, 2, 3, 1, 1, 1, 1])"
      ]
     },
     "execution_count": 132,
     "metadata": {},
     "output_type": "execute_result"
    }
   ],
   "source": [
    "rfe.ranking_"
   ]
  },
  {
   "cell_type": "code",
   "execution_count": 133,
   "id": "84451464",
   "metadata": {},
   "outputs": [],
   "source": [
    "# making new train data set with only those columns which is selected by RFE\n",
    "X_train_rfe= X_train[X_train.columns[rfe.support_]]"
   ]
  },
  {
   "cell_type": "markdown",
   "id": "e45d8405",
   "metadata": {},
   "source": [
    "#### Model 1"
   ]
  },
  {
   "cell_type": "code",
   "execution_count": 134,
   "id": "98c459ba",
   "metadata": {},
   "outputs": [],
   "source": [
    "def build_model(x,y):\n",
    "    x=sm.add_constant(x)\n",
    "    lm=sm.OLS(y,x).fit()\n",
    "    print(lm.summary())\n",
    "    return x"
   ]
  },
  {
   "cell_type": "code",
   "execution_count": 135,
   "id": "c2047a23",
   "metadata": {},
   "outputs": [
    {
     "name": "stdout",
     "output_type": "stream",
     "text": [
      "                            OLS Regression Results                            \n",
      "==============================================================================\n",
      "Dep. Variable:                      y   R-squared:                       0.738\n",
      "Model:                            OLS   Adj. R-squared:                  0.736\n",
      "Method:                 Least Squares   F-statistic:                     467.5\n",
      "Date:                Wed, 25 May 2022   Prob (F-statistic):          1.49e-285\n",
      "Time:                        17:26:45   Log-Likelihood:                 898.60\n",
      "No. Observations:                1003   AIC:                            -1783.\n",
      "Df Residuals:                     996   BIC:                            -1749.\n",
      "Df Model:                           6                                         \n",
      "Covariance Type:            nonrobust                                         \n",
      "====================================================================================\n",
      "                       coef    std err          t      P>|t|      [0.025      0.975]\n",
      "------------------------------------------------------------------------------------\n",
      "const               -0.0336      0.010     -3.249      0.001      -0.054      -0.013\n",
      "age                  0.1928      0.010     18.680      0.000       0.173       0.213\n",
      "bmi                  0.1850      0.020      9.409      0.000       0.146       0.224\n",
      "smoker_yes           0.3793      0.008     47.920      0.000       0.364       0.395\n",
      "region_northwest    -0.0090      0.009     -0.994      0.320      -0.027       0.009\n",
      "region_southeast    -0.0166      0.009     -1.823      0.069      -0.035       0.001\n",
      "region_southwest    -0.0194      0.009     -2.126      0.034      -0.037      -0.001\n",
      "==============================================================================\n",
      "Omnibus:                      235.025   Durbin-Watson:                   2.023\n",
      "Prob(Omnibus):                  0.000   Jarque-Bera (JB):              547.014\n",
      "Skew:                           1.262   Prob(JB):                    1.65e-119\n",
      "Kurtosis:                       5.593   Cond. No.                         8.55\n",
      "==============================================================================\n",
      "\n",
      "Notes:\n",
      "[1] Standard Errors assume that the covariance matrix of the errors is correctly specified.\n"
     ]
    }
   ],
   "source": [
    "X_train_new= build_model(X_train_rfe,y_train)"
   ]
  },
  {
   "cell_type": "markdown",
   "id": "65147e7e",
   "metadata": {},
   "source": [
    "p-value of `region_northwest` seems to be higher than the significance value of 0.05, hence dropping it as it is insignificant in presence of other variables."
   ]
  },
  {
   "cell_type": "code",
   "execution_count": 136,
   "id": "7ee43407",
   "metadata": {},
   "outputs": [],
   "source": [
    "# Droping region_northwest\n",
    "X_train_new=X_train_rfe.drop([\"region_northwest\"],axis=1)"
   ]
  },
  {
   "cell_type": "markdown",
   "id": "20d6101a",
   "metadata": {},
   "source": [
    "#### Model 2"
   ]
  },
  {
   "cell_type": "code",
   "execution_count": 137,
   "id": "7514b6bb",
   "metadata": {},
   "outputs": [
    {
     "name": "stdout",
     "output_type": "stream",
     "text": [
      "                            OLS Regression Results                            \n",
      "==============================================================================\n",
      "Dep. Variable:                      y   R-squared:                       0.738\n",
      "Model:                            OLS   Adj. R-squared:                  0.736\n",
      "Method:                 Least Squares   F-statistic:                     560.8\n",
      "Date:                Wed, 25 May 2022   Prob (F-statistic):          9.81e-287\n",
      "Time:                        17:26:45   Log-Likelihood:                 898.11\n",
      "No. Observations:                1003   AIC:                            -1784.\n",
      "Df Residuals:                     997   BIC:                            -1755.\n",
      "Df Model:                           5                                         \n",
      "Covariance Type:            nonrobust                                         \n",
      "====================================================================================\n",
      "                       coef    std err          t      P>|t|      [0.025      0.975]\n",
      "------------------------------------------------------------------------------------\n",
      "const               -0.0381      0.009     -4.126      0.000      -0.056      -0.020\n",
      "age                  0.1928      0.010     18.679      0.000       0.173       0.213\n",
      "bmi                  0.1847      0.020      9.396      0.000       0.146       0.223\n",
      "smoker_yes           0.3795      0.008     47.967      0.000       0.364       0.395\n",
      "region_southeast    -0.0120      0.008     -1.529      0.126      -0.027       0.003\n",
      "region_southwest    -0.0148      0.008     -1.883      0.060      -0.030       0.001\n",
      "==============================================================================\n",
      "Omnibus:                      233.688   Durbin-Watson:                   2.027\n",
      "Prob(Omnibus):                  0.000   Jarque-Bera (JB):              540.251\n",
      "Skew:                           1.258   Prob(JB):                    4.85e-118\n",
      "Kurtosis:                       5.569   Cond. No.                         8.40\n",
      "==============================================================================\n",
      "\n",
      "Notes:\n",
      "[1] Standard Errors assume that the covariance matrix of the errors is correctly specified.\n"
     ]
    }
   ],
   "source": [
    "X_train_new=build_model(X_train_new,y_train)"
   ]
  },
  {
   "cell_type": "markdown",
   "id": "30fc235d",
   "metadata": {},
   "source": [
    "p-value of `region_southeast` seems to be higher than the significance value of 0.05, hence dropping it as it is insignificant in presence of other variables."
   ]
  },
  {
   "cell_type": "code",
   "execution_count": 138,
   "id": "b294b83c",
   "metadata": {},
   "outputs": [],
   "source": [
    "# Droping region_southeast\n",
    "X_train_new=X_train_rfe.drop([\"region_southeast\"],axis=1)"
   ]
  },
  {
   "cell_type": "markdown",
   "id": "64852b31",
   "metadata": {},
   "source": [
    "#### Model 3"
   ]
  },
  {
   "cell_type": "code",
   "execution_count": 139,
   "id": "81ddafd7",
   "metadata": {},
   "outputs": [
    {
     "name": "stdout",
     "output_type": "stream",
     "text": [
      "                            OLS Regression Results                            \n",
      "==============================================================================\n",
      "Dep. Variable:                      y   R-squared:                       0.737\n",
      "Model:                            OLS   Adj. R-squared:                  0.736\n",
      "Method:                 Least Squares   F-statistic:                     559.0\n",
      "Date:                Wed, 25 May 2022   Prob (F-statistic):          3.14e-286\n",
      "Time:                        17:26:45   Log-Likelihood:                 896.93\n",
      "No. Observations:                1003   AIC:                            -1782.\n",
      "Df Residuals:                     997   BIC:                            -1752.\n",
      "Df Model:                           5                                         \n",
      "Covariance Type:            nonrobust                                         \n",
      "====================================================================================\n",
      "                       coef    std err          t      P>|t|      [0.025      0.975]\n",
      "------------------------------------------------------------------------------------\n",
      "const               -0.0389      0.010     -3.926      0.000      -0.058      -0.019\n",
      "age                  0.1935      0.010     18.745      0.000       0.173       0.214\n",
      "bmi                  0.1756      0.019      9.243      0.000       0.138       0.213\n",
      "smoker_yes           0.3784      0.008     47.841      0.000       0.363       0.394\n",
      "region_northwest    -0.0005      0.008     -0.065      0.948      -0.016       0.015\n",
      "region_southwest    -0.0106      0.008     -1.366      0.172      -0.026       0.005\n",
      "==============================================================================\n",
      "Omnibus:                      232.388   Durbin-Watson:                   2.023\n",
      "Prob(Omnibus):                  0.000   Jarque-Bera (JB):              535.045\n",
      "Skew:                           1.253   Prob(JB):                    6.55e-117\n",
      "Kurtosis:                       5.555   Cond. No.                         8.21\n",
      "==============================================================================\n",
      "\n",
      "Notes:\n",
      "[1] Standard Errors assume that the covariance matrix of the errors is correctly specified.\n"
     ]
    }
   ],
   "source": [
    "X_train_new=build_model(X_train_new,y_train)"
   ]
  },
  {
   "cell_type": "markdown",
   "id": "e592ff87",
   "metadata": {},
   "source": [
    "p-value of `region_northwest` seems to be higher than the significance value of 0.05, hence dropping it as it is insignificant in presence of other variables."
   ]
  },
  {
   "cell_type": "code",
   "execution_count": 140,
   "id": "73edee30",
   "metadata": {},
   "outputs": [],
   "source": [
    "# Droping region_northwest\n",
    "X_train_new=X_train_new.drop([\"region_northwest\"],axis=1)"
   ]
  },
  {
   "cell_type": "markdown",
   "id": "dd0b33aa",
   "metadata": {},
   "source": [
    "#### Model 4"
   ]
  },
  {
   "cell_type": "code",
   "execution_count": 141,
   "id": "bc440bfe",
   "metadata": {},
   "outputs": [
    {
     "name": "stdout",
     "output_type": "stream",
     "text": [
      "                            OLS Regression Results                            \n",
      "==============================================================================\n",
      "Dep. Variable:                      y   R-squared:                       0.737\n",
      "Model:                            OLS   Adj. R-squared:                  0.736\n",
      "Method:                 Least Squares   F-statistic:                     699.5\n",
      "Date:                Wed, 25 May 2022   Prob (F-statistic):          1.12e-287\n",
      "Time:                        17:26:45   Log-Likelihood:                 896.93\n",
      "No. Observations:                1003   AIC:                            -1784.\n",
      "Df Residuals:                     998   BIC:                            -1759.\n",
      "Df Model:                           4                                         \n",
      "Covariance Type:            nonrobust                                         \n",
      "====================================================================================\n",
      "                       coef    std err          t      P>|t|      [0.025      0.975]\n",
      "------------------------------------------------------------------------------------\n",
      "const               -0.0392      0.009     -4.244      0.000      -0.057      -0.021\n",
      "age                  0.1935      0.010     18.759      0.000       0.173       0.214\n",
      "bmi                  0.1758      0.019      9.355      0.000       0.139       0.213\n",
      "smoker_yes           0.3784      0.008     47.984      0.000       0.363       0.394\n",
      "region_southwest    -0.0104      0.007     -1.425      0.154      -0.025       0.004\n",
      "==============================================================================\n",
      "Omnibus:                      232.346   Durbin-Watson:                   2.023\n",
      "Prob(Omnibus):                  0.000   Jarque-Bera (JB):              534.791\n",
      "Skew:                           1.253   Prob(JB):                    7.44e-117\n",
      "Kurtosis:                       5.554   Cond. No.                         7.87\n",
      "==============================================================================\n",
      "\n",
      "Notes:\n",
      "[1] Standard Errors assume that the covariance matrix of the errors is correctly specified.\n"
     ]
    }
   ],
   "source": [
    "X_train_new=build_model(X_train_new,y_train)"
   ]
  },
  {
   "cell_type": "markdown",
   "id": "a74aa9b2",
   "metadata": {},
   "source": [
    "p-value of `region_southwest` seems to be higher than the significance value of 0.05, hence dropping it as it is insignificant in presence of other variables."
   ]
  },
  {
   "cell_type": "code",
   "execution_count": 142,
   "id": "7879ef73",
   "metadata": {},
   "outputs": [],
   "source": [
    "X_train_new=X_train_new.drop([\"region_southwest\"],axis=1)"
   ]
  },
  {
   "cell_type": "markdown",
   "id": "abb8d5cf",
   "metadata": {},
   "source": [
    "#### Model 5\n"
   ]
  },
  {
   "cell_type": "code",
   "execution_count": 143,
   "id": "f60a6be4",
   "metadata": {},
   "outputs": [
    {
     "name": "stdout",
     "output_type": "stream",
     "text": [
      "                            OLS Regression Results                            \n",
      "==============================================================================\n",
      "Dep. Variable:                      y   R-squared:                       0.737\n",
      "Model:                            OLS   Adj. R-squared:                  0.736\n",
      "Method:                 Least Squares   F-statistic:                     931.0\n",
      "Date:                Wed, 25 May 2022   Prob (F-statistic):          9.30e-289\n",
      "Time:                        17:26:45   Log-Likelihood:                 895.91\n",
      "No. Observations:                1003   AIC:                            -1784.\n",
      "Df Residuals:                     999   BIC:                            -1764.\n",
      "Df Model:                           3                                         \n",
      "Covariance Type:            nonrobust                                         \n",
      "==============================================================================\n",
      "                 coef    std err          t      P>|t|      [0.025      0.975]\n",
      "------------------------------------------------------------------------------\n",
      "const         -0.0417      0.009     -4.606      0.000      -0.059      -0.024\n",
      "age            0.1932      0.010     18.722      0.000       0.173       0.213\n",
      "bmi            0.1761      0.019      9.369      0.000       0.139       0.213\n",
      "smoker_yes     0.3787      0.008     48.014      0.000       0.363       0.394\n",
      "==============================================================================\n",
      "Omnibus:                      234.139   Durbin-Watson:                   2.022\n",
      "Prob(Omnibus):                  0.000   Jarque-Bera (JB):              540.298\n",
      "Skew:                           1.261   Prob(JB):                    4.74e-118\n",
      "Kurtosis:                       5.563   Cond. No.                         7.68\n",
      "==============================================================================\n",
      "\n",
      "Notes:\n",
      "[1] Standard Errors assume that the covariance matrix of the errors is correctly specified.\n"
     ]
    }
   ],
   "source": [
    "X_train_new=build_model(X_train_new,y_train)"
   ]
  },
  {
   "cell_type": "markdown",
   "id": "fcbb581a",
   "metadata": {},
   "source": [
    "All p-value seems to be less than the significance value of 0.05, hence no need drop any columns."
   ]
  },
  {
   "cell_type": "code",
   "execution_count": 144,
   "id": "9667fc25",
   "metadata": {},
   "outputs": [
    {
     "data": {
      "text/html": [
       "<div>\n",
       "<style scoped>\n",
       "    .dataframe tbody tr th:only-of-type {\n",
       "        vertical-align: middle;\n",
       "    }\n",
       "\n",
       "    .dataframe tbody tr th {\n",
       "        vertical-align: top;\n",
       "    }\n",
       "\n",
       "    .dataframe thead th {\n",
       "        text-align: right;\n",
       "    }\n",
       "</style>\n",
       "<table border=\"1\" class=\"dataframe\">\n",
       "  <thead>\n",
       "    <tr style=\"text-align: right;\">\n",
       "      <th></th>\n",
       "      <th>Features</th>\n",
       "      <th>VIF</th>\n",
       "    </tr>\n",
       "  </thead>\n",
       "  <tbody>\n",
       "    <tr>\n",
       "      <th>0</th>\n",
       "      <td>const</td>\n",
       "      <td>8.35</td>\n",
       "    </tr>\n",
       "    <tr>\n",
       "      <th>1</th>\n",
       "      <td>age</td>\n",
       "      <td>1.01</td>\n",
       "    </tr>\n",
       "    <tr>\n",
       "      <th>2</th>\n",
       "      <td>bmi</td>\n",
       "      <td>1.01</td>\n",
       "    </tr>\n",
       "    <tr>\n",
       "      <th>3</th>\n",
       "      <td>smoker_yes</td>\n",
       "      <td>1.00</td>\n",
       "    </tr>\n",
       "  </tbody>\n",
       "</table>\n",
       "</div>"
      ],
      "text/plain": [
       "     Features   VIF\n",
       "0       const  8.35\n",
       "1         age  1.01\n",
       "2         bmi  1.01\n",
       "3  smoker_yes  1.00"
      ]
     },
     "execution_count": 144,
     "metadata": {},
     "output_type": "execute_result"
    }
   ],
   "source": [
    "#Calculating the Variance Inflation Factor\n",
    "\n",
    "from statsmodels.stats.outliers_influence import variance_inflation_factor\n",
    "def checkVIF(X):\n",
    "    vif = pd.DataFrame() # expty dataframe\n",
    "    vif['Features'] = X.columns\n",
    "    vif['VIF'] = [variance_inflation_factor(X.values, i) for i in range(X.shape[1])]\n",
    "    vif['VIF'] = round(vif['VIF'], 2)\n",
    "    vif = vif.sort_values(by = \"VIF\", ascending = False)\n",
    "    return(vif)\n",
    "\n",
    "checkVIF(X_train_new)"
   ]
  },
  {
   "cell_type": "markdown",
   "id": "ba274540",
   "metadata": {},
   "source": [
    "### Residual Analysis of Model"
   ]
  },
  {
   "cell_type": "code",
   "execution_count": 145,
   "id": "146bc274",
   "metadata": {},
   "outputs": [],
   "source": [
    "lm = sm.OLS(y_train,X_train_new).fit()\n",
    "y_train_prd = lm.predict(X_train_new)"
   ]
  },
  {
   "cell_type": "code",
   "execution_count": 146,
   "id": "67cb507d",
   "metadata": {},
   "outputs": [
    {
     "name": "stdout",
     "output_type": "stream",
     "text": [
      "                            OLS Regression Results                            \n",
      "==============================================================================\n",
      "Dep. Variable:                      y   R-squared:                       0.737\n",
      "Model:                            OLS   Adj. R-squared:                  0.736\n",
      "Method:                 Least Squares   F-statistic:                     931.0\n",
      "Date:                Wed, 25 May 2022   Prob (F-statistic):          9.30e-289\n",
      "Time:                        17:26:45   Log-Likelihood:                 895.91\n",
      "No. Observations:                1003   AIC:                            -1784.\n",
      "Df Residuals:                     999   BIC:                            -1764.\n",
      "Df Model:                           3                                         \n",
      "Covariance Type:            nonrobust                                         \n",
      "==============================================================================\n",
      "                 coef    std err          t      P>|t|      [0.025      0.975]\n",
      "------------------------------------------------------------------------------\n",
      "const         -0.0417      0.009     -4.606      0.000      -0.059      -0.024\n",
      "age            0.1932      0.010     18.722      0.000       0.173       0.213\n",
      "bmi            0.1761      0.019      9.369      0.000       0.139       0.213\n",
      "smoker_yes     0.3787      0.008     48.014      0.000       0.363       0.394\n",
      "==============================================================================\n",
      "Omnibus:                      234.139   Durbin-Watson:                   2.022\n",
      "Prob(Omnibus):                  0.000   Jarque-Bera (JB):              540.298\n",
      "Skew:                           1.261   Prob(JB):                    4.74e-118\n",
      "Kurtosis:                       5.563   Cond. No.                         7.68\n",
      "==============================================================================\n",
      "\n",
      "Notes:\n",
      "[1] Standard Errors assume that the covariance matrix of the errors is correctly specified.\n"
     ]
    }
   ],
   "source": [
    "print(lm.summary())"
   ]
  },
  {
   "cell_type": "code",
   "execution_count": 147,
   "id": "cb06c470",
   "metadata": {},
   "outputs": [],
   "source": [
    "y_train_prd=y_train_prd.values.reshape(-1,1)"
   ]
  },
  {
   "cell_type": "code",
   "execution_count": 148,
   "id": "77b70a23",
   "metadata": {},
   "outputs": [
    {
     "data": {
      "image/png": "[encoded data removed]",
      "text/plain": [
       "<Figure size 576x432 with 1 Axes>"
      ]
     },
     "metadata": {
      "needs_background": "light"
     },
     "output_type": "display_data"
    }
   ],
   "source": [
    "# Plot the histogram of the error terms\n",
    "plt.figure(figsize=(8,6))\n",
    "\n",
    "sns.distplot((y_train - y_train_prd), bins = 20)\n",
    "plt.suptitle('Error Terms', fontsize = 20)                  # Plot heading \n",
    "plt.xlabel('Errors', fontsize = 18) \n",
    "plt.show()"
   ]
  },
  {
   "cell_type": "markdown",
   "id": "f85bbb8a",
   "metadata": {},
   "source": [
    "Error terms seem to be approximately normally distributed, so the assumption on the linear modeling seems to be fulfilled."
   ]
  },
  {
   "cell_type": "markdown",
   "id": "b7f145c8",
   "metadata": {},
   "source": [
    "### Prediction and Evaluation"
   ]
  },
  {
   "cell_type": "code",
   "execution_count": 149,
   "id": "8dd622d0",
   "metadata": {},
   "outputs": [
    {
     "data": {
      "text/plain": [
       "Index(['const', 'age', 'bmi', 'smoker_yes'], dtype='object')"
      ]
     },
     "execution_count": 149,
     "metadata": {},
     "output_type": "execute_result"
    }
   ],
   "source": [
    "X_train_new.columns"
   ]
  },
  {
   "cell_type": "code",
   "execution_count": 150,
   "id": "fae6471e",
   "metadata": {},
   "outputs": [],
   "source": [
    "X_train_new=X_train_new.drop([\"const\"],axis=1)\n",
    "X_test_new=X_test[X_train_new.columns]\n",
    "\n",
    "X_test_new=sm.add_constant(X_test_new)"
   ]
  },
  {
   "cell_type": "code",
   "execution_count": 151,
   "id": "13856653",
   "metadata": {},
   "outputs": [],
   "source": [
    "y_pred= lm.predict(X_test_new)"
   ]
  },
  {
   "cell_type": "code",
   "execution_count": 152,
   "id": "910a5628",
   "metadata": {},
   "outputs": [
    {
     "data": {
      "text/plain": [
       "Index(['age', 'bmi', 'smoker_yes'], dtype='object')"
      ]
     },
     "execution_count": 152,
     "metadata": {},
     "output_type": "execute_result"
    }
   ],
   "source": [
    "X_train_new.columns"
   ]
  },
  {
   "cell_type": "code",
   "execution_count": 153,
   "id": "cb438e62",
   "metadata": {},
   "outputs": [
    {
     "data": {
      "text/plain": [
       "0.7783348011090813"
      ]
     },
     "execution_count": 153,
     "metadata": {},
     "output_type": "execute_result"
    }
   ],
   "source": [
    "from sklearn.metrics import r2_score\n",
    "r2_score(y_test,y_pred)"
   ]
  },
  {
   "cell_type": "markdown",
   "id": "a1848429",
   "metadata": {},
   "source": [
    "we get 77.83 % accurecy of Linrar model. haveing 'const', 'age', 'bmi', 'smoker_yes'as independent veriables."
   ]
  },
  {
   "cell_type": "code",
   "execution_count": 154,
   "id": "02d1e417",
   "metadata": {},
   "outputs": [
    {
     "data": {
      "text/plain": [
       "Text(0, 0.5, 'y_pred')"
      ]
     },
     "execution_count": 154,
     "metadata": {},
     "output_type": "execute_result"
    },
    {
     "data": {
      "image/png": "[encoded data removed]",
      "text/plain": [
       "<Figure size 576x432 with 1 Axes>"
      ]
     },
     "metadata": {
      "needs_background": "light"
     },
     "output_type": "display_data"
    }
   ],
   "source": [
    "#EVALUATION OF THE MODEL\n",
    "# Plotting y_test and y_pred to understand the spread.\n",
    "fig = plt.figure(figsize=(8,6))\n",
    "\n",
    "plt.scatter(y_test,y_pred)\n",
    "fig.suptitle('y_test vs y_pred', fontsize=20)              # Plot heading \n",
    "plt.xlabel('y_test', fontsize=18)                          # X-label\n",
    "plt.ylabel('y_pred', fontsize=16) "
   ]
  },
  {
   "cell_type": "code",
   "execution_count": 155,
   "id": "5304a6b7",
   "metadata": {},
   "outputs": [
    {
     "name": "stdout",
     "output_type": "stream",
     "text": [
      "                            OLS Regression Results                            \n",
      "==============================================================================\n",
      "Dep. Variable:                      y   R-squared:                       0.737\n",
      "Model:                            OLS   Adj. R-squared:                  0.736\n",
      "Method:                 Least Squares   F-statistic:                     931.0\n",
      "Date:                Wed, 25 May 2022   Prob (F-statistic):          9.30e-289\n",
      "Time:                        17:26:46   Log-Likelihood:                 895.91\n",
      "No. Observations:                1003   AIC:                            -1784.\n",
      "Df Residuals:                     999   BIC:                            -1764.\n",
      "Df Model:                           3                                         \n",
      "Covariance Type:            nonrobust                                         \n",
      "==============================================================================\n",
      "                 coef    std err          t      P>|t|      [0.025      0.975]\n",
      "------------------------------------------------------------------------------\n",
      "const         -0.0417      0.009     -4.606      0.000      -0.059      -0.024\n",
      "age            0.1932      0.010     18.722      0.000       0.173       0.213\n",
      "bmi            0.1761      0.019      9.369      0.000       0.139       0.213\n",
      "smoker_yes     0.3787      0.008     48.014      0.000       0.363       0.394\n",
      "==============================================================================\n",
      "Omnibus:                      234.139   Durbin-Watson:                   2.022\n",
      "Prob(Omnibus):                  0.000   Jarque-Bera (JB):              540.298\n",
      "Skew:                           1.261   Prob(JB):                    4.74e-118\n",
      "Kurtosis:                       5.563   Cond. No.                         7.68\n",
      "==============================================================================\n",
      "\n",
      "Notes:\n",
      "[1] Standard Errors assume that the covariance matrix of the errors is correctly specified.\n"
     ]
    }
   ],
   "source": [
    "print(lm.summary())"
   ]
  },
  {
   "cell_type": "markdown",
   "id": "59c01c0e",
   "metadata": {},
   "source": [
    "p-values for all the coefficients seem to be less than the significance level of 0.05. - meaning that all the predictors are statistically significant."
   ]
  },
  {
   "cell_type": "markdown",
   "id": "e0663a49",
   "metadata": {},
   "source": [
    "**Which Factors Influence the Price of Health Insurance?**\n",
    "\n",
    "we have 3 major fators that affecting on the charges.\n",
    "out of the we have to find which most affecting on charegs.\n",
    "to get this answer we applying Linear regression."
   ]
  },
  {
   "cell_type": "code",
   "execution_count": 156,
   "id": "c8282876",
   "metadata": {},
   "outputs": [
    {
     "data": {
      "text/html": [
       "<div>\n",
       "<style scoped>\n",
       "    .dataframe tbody tr th:only-of-type {\n",
       "        vertical-align: middle;\n",
       "    }\n",
       "\n",
       "    .dataframe tbody tr th {\n",
       "        vertical-align: top;\n",
       "    }\n",
       "\n",
       "    .dataframe thead th {\n",
       "        text-align: right;\n",
       "    }\n",
       "</style>\n",
       "<table border=\"1\" class=\"dataframe\">\n",
       "  <thead>\n",
       "    <tr style=\"text-align: right;\">\n",
       "      <th></th>\n",
       "      <th>age</th>\n",
       "      <th>bmi</th>\n",
       "      <th>children</th>\n",
       "      <th>sex_male</th>\n",
       "      <th>smoker_yes</th>\n",
       "      <th>region_northwest</th>\n",
       "      <th>region_southeast</th>\n",
       "      <th>region_southwest</th>\n",
       "    </tr>\n",
       "  </thead>\n",
       "  <tbody>\n",
       "    <tr>\n",
       "      <th>999</th>\n",
       "      <td>0.391304</td>\n",
       "      <td>0.293920</td>\n",
       "      <td>0</td>\n",
       "      <td>0</td>\n",
       "      <td>0</td>\n",
       "      <td>1</td>\n",
       "      <td>0</td>\n",
       "      <td>0</td>\n",
       "    </tr>\n",
       "    <tr>\n",
       "      <th>884</th>\n",
       "      <td>0.152174</td>\n",
       "      <td>0.288808</td>\n",
       "      <td>4</td>\n",
       "      <td>1</td>\n",
       "      <td>0</td>\n",
       "      <td>1</td>\n",
       "      <td>0</td>\n",
       "      <td>0</td>\n",
       "    </tr>\n",
       "    <tr>\n",
       "      <th>517</th>\n",
       "      <td>0.586957</td>\n",
       "      <td>0.391041</td>\n",
       "      <td>2</td>\n",
       "      <td>1</td>\n",
       "      <td>0</td>\n",
       "      <td>1</td>\n",
       "      <td>0</td>\n",
       "      <td>0</td>\n",
       "    </tr>\n",
       "    <tr>\n",
       "      <th>1132</th>\n",
       "      <td>0.847826</td>\n",
       "      <td>0.654291</td>\n",
       "      <td>0</td>\n",
       "      <td>1</td>\n",
       "      <td>0</td>\n",
       "      <td>0</td>\n",
       "      <td>0</td>\n",
       "      <td>0</td>\n",
       "    </tr>\n",
       "    <tr>\n",
       "      <th>1188</th>\n",
       "      <td>0.543478</td>\n",
       "      <td>0.250471</td>\n",
       "      <td>1</td>\n",
       "      <td>0</td>\n",
       "      <td>1</td>\n",
       "      <td>0</td>\n",
       "      <td>0</td>\n",
       "      <td>0</td>\n",
       "    </tr>\n",
       "  </tbody>\n",
       "</table>\n",
       "</div>"
      ],
      "text/plain": [
       "           age       bmi  children  sex_male  smoker_yes  region_northwest  \\\n",
       "999   0.391304  0.293920         0         0           0                 1   \n",
       "884   0.152174  0.288808         4         1           0                 1   \n",
       "517   0.586957  0.391041         2         1           0                 1   \n",
       "1132  0.847826  0.654291         0         1           0                 0   \n",
       "1188  0.543478  0.250471         1         0           1                 0   \n",
       "\n",
       "      region_southeast  region_southwest  \n",
       "999                  0                 0  \n",
       "884                  0                 0  \n",
       "517                  0                 0  \n",
       "1132                 0                 0  \n",
       "1188                 0                 0  "
      ]
     },
     "execution_count": 156,
     "metadata": {},
     "output_type": "execute_result"
    }
   ],
   "source": [
    "X_train.head()"
   ]
  },
  {
   "cell_type": "code",
   "execution_count": 157,
   "id": "1aeffed7",
   "metadata": {},
   "outputs": [
    {
     "data": {
      "text/html": [
       "<div>\n",
       "<style scoped>\n",
       "    .dataframe tbody tr th:only-of-type {\n",
       "        vertical-align: middle;\n",
       "    }\n",
       "\n",
       "    .dataframe tbody tr th {\n",
       "        vertical-align: top;\n",
       "    }\n",
       "\n",
       "    .dataframe thead th {\n",
       "        text-align: right;\n",
       "    }\n",
       "</style>\n",
       "<table border=\"1\" class=\"dataframe\">\n",
       "  <thead>\n",
       "    <tr style=\"text-align: right;\">\n",
       "      <th></th>\n",
       "      <th>age</th>\n",
       "      <th>bmi</th>\n",
       "      <th>children</th>\n",
       "      <th>sex_male</th>\n",
       "      <th>smoker_yes</th>\n",
       "      <th>region_northwest</th>\n",
       "      <th>region_southeast</th>\n",
       "      <th>region_southwest</th>\n",
       "    </tr>\n",
       "  </thead>\n",
       "  <tbody>\n",
       "    <tr>\n",
       "      <th>12</th>\n",
       "      <td>0.108696</td>\n",
       "      <td>0.496099</td>\n",
       "      <td>0</td>\n",
       "      <td>1</td>\n",
       "      <td>0</td>\n",
       "      <td>0</td>\n",
       "      <td>0</td>\n",
       "      <td>1</td>\n",
       "    </tr>\n",
       "    <tr>\n",
       "      <th>306</th>\n",
       "      <td>0.217391</td>\n",
       "      <td>0.310465</td>\n",
       "      <td>2</td>\n",
       "      <td>0</td>\n",
       "      <td>0</td>\n",
       "      <td>0</td>\n",
       "      <td>0</td>\n",
       "      <td>1</td>\n",
       "    </tr>\n",
       "    <tr>\n",
       "      <th>318</th>\n",
       "      <td>0.565217</td>\n",
       "      <td>0.314366</td>\n",
       "      <td>0</td>\n",
       "      <td>0</td>\n",
       "      <td>0</td>\n",
       "      <td>1</td>\n",
       "      <td>0</td>\n",
       "      <td>0</td>\n",
       "    </tr>\n",
       "    <tr>\n",
       "      <th>815</th>\n",
       "      <td>0.043478</td>\n",
       "      <td>0.417003</td>\n",
       "      <td>0</td>\n",
       "      <td>0</td>\n",
       "      <td>0</td>\n",
       "      <td>0</td>\n",
       "      <td>1</td>\n",
       "      <td>0</td>\n",
       "    </tr>\n",
       "    <tr>\n",
       "      <th>157</th>\n",
       "      <td>0.000000</td>\n",
       "      <td>0.247915</td>\n",
       "      <td>0</td>\n",
       "      <td>1</td>\n",
       "      <td>1</td>\n",
       "      <td>0</td>\n",
       "      <td>0</td>\n",
       "      <td>0</td>\n",
       "    </tr>\n",
       "  </tbody>\n",
       "</table>\n",
       "</div>"
      ],
      "text/plain": [
       "          age       bmi  children  sex_male  smoker_yes  region_northwest  \\\n",
       "12   0.108696  0.496099         0         1           0                 0   \n",
       "306  0.217391  0.310465         2         0           0                 0   \n",
       "318  0.565217  0.314366         0         0           0                 1   \n",
       "815  0.043478  0.417003         0         0           0                 0   \n",
       "157  0.000000  0.247915         0         1           1                 0   \n",
       "\n",
       "     region_southeast  region_southwest  \n",
       "12                  0                 1  \n",
       "306                 0                 1  \n",
       "318                 0                 0  \n",
       "815                 1                 0  \n",
       "157                 0                 0  "
      ]
     },
     "execution_count": 157,
     "metadata": {},
     "output_type": "execute_result"
    }
   ],
   "source": [
    "X_test.head()"
   ]
  },
  {
   "cell_type": "markdown",
   "id": "61632224",
   "metadata": {},
   "source": [
    "#### Linear Regression model 1 - Age vs charges"
   ]
  },
  {
   "cell_type": "code",
   "execution_count": 158,
   "id": "4c2930ba",
   "metadata": {},
   "outputs": [
    {
     "data": {
      "text/plain": [
       "(1003, 1)"
      ]
     },
     "execution_count": 158,
     "metadata": {},
     "output_type": "execute_result"
    }
   ],
   "source": [
    "age_train=X_train[\"age\"].values.reshape(-1,1)\n",
    "age_train.shape"
   ]
  },
  {
   "cell_type": "code",
   "execution_count": 159,
   "id": "a15dd524",
   "metadata": {},
   "outputs": [
    {
     "data": {
      "text/plain": [
       "(335, 1)"
      ]
     },
     "execution_count": 159,
     "metadata": {},
     "output_type": "execute_result"
    }
   ],
   "source": [
    "age_test=X_test[\"age\"].values.reshape(-1,1)\n",
    "age_test.shape"
   ]
  },
  {
   "cell_type": "code",
   "execution_count": 160,
   "id": "d0f1fb1d",
   "metadata": {},
   "outputs": [
    {
     "name": "stdout",
     "output_type": "stream",
     "text": [
      "0.039335237789680844\n"
     ]
    }
   ],
   "source": [
    "lrage=LinearRegression()\n",
    "lrage.fit(age_train,y_train)\n",
    "y_pred_age=lrage.predict(age_test)\n",
    "\n",
    "print(r2_score(y_test,y_pred_age))"
   ]
  },
  {
   "cell_type": "markdown",
   "id": "b14f6b46",
   "metadata": {},
   "source": [
    "we get 3.93% R2 score."
   ]
  },
  {
   "cell_type": "markdown",
   "id": "06a48f06",
   "metadata": {},
   "source": [
    "### Linear Regression model 2 - bmi vs charges"
   ]
  },
  {
   "cell_type": "code",
   "execution_count": 161,
   "id": "8d34aa10",
   "metadata": {},
   "outputs": [
    {
     "data": {
      "text/plain": [
       "(1003, 1)"
      ]
     },
     "execution_count": 161,
     "metadata": {},
     "output_type": "execute_result"
    }
   ],
   "source": [
    "bmi_train=X_train[\"bmi\"].values.reshape(-1,1)\n",
    "bmi_train.shape"
   ]
  },
  {
   "cell_type": "code",
   "execution_count": 162,
   "id": "8e71f44d",
   "metadata": {},
   "outputs": [
    {
     "data": {
      "text/plain": [
       "(335, 1)"
      ]
     },
     "execution_count": 162,
     "metadata": {},
     "output_type": "execute_result"
    }
   ],
   "source": [
    "bmi_test=X_test[\"bmi\"].values.reshape(-1,1)\n",
    "bmi_test.shape"
   ]
  },
  {
   "cell_type": "code",
   "execution_count": 168,
   "id": "a1b13693",
   "metadata": {},
   "outputs": [
    {
     "name": "stdout",
     "output_type": "stream",
     "text": [
      "0.042768452023143944\n"
     ]
    }
   ],
   "source": [
    "lrbmi=LinearRegression()\n",
    "lrbmi.fit(bmi_train,y_train)\n",
    "y_pred_bmi=lrbmi.predict(bmi_test)\n",
    "\n",
    "print(r2_score(y_test,y_pred_bmi))"
   ]
  },
  {
   "cell_type": "markdown",
   "id": "c951ec33",
   "metadata": {},
   "source": [
    "we get 4.27% R2 score."
   ]
  },
  {
   "cell_type": "markdown",
   "id": "0c54cda9",
   "metadata": {},
   "source": [
    "### Linear Regression model 3 - smoker_yes vs charges"
   ]
  },
  {
   "cell_type": "code",
   "execution_count": 164,
   "id": "0d87442b",
   "metadata": {},
   "outputs": [
    {
     "data": {
      "text/plain": [
       "(1003, 1)"
      ]
     },
     "execution_count": 164,
     "metadata": {},
     "output_type": "execute_result"
    }
   ],
   "source": [
    "smoker_yes_train=X_train[\"smoker_yes\"].values.reshape(-1,1)\n",
    "smoker_yes_train.shape"
   ]
  },
  {
   "cell_type": "code",
   "execution_count": 165,
   "id": "f4aa3723",
   "metadata": {},
   "outputs": [
    {
     "data": {
      "text/plain": [
       "(335, 1)"
      ]
     },
     "execution_count": 165,
     "metadata": {},
     "output_type": "execute_result"
    }
   ],
   "source": [
    "smoker_yes_test=X_test[\"smoker_yes\"].values.reshape(-1,1)\n",
    "smoker_yes_test.shape"
   ]
  },
  {
   "cell_type": "code",
   "execution_count": 166,
   "id": "e6d85d4d",
   "metadata": {},
   "outputs": [
    {
     "name": "stdout",
     "output_type": "stream",
     "text": [
      "0.6505586158241478\n"
     ]
    }
   ],
   "source": [
    "lrsmoker=LinearRegression()\n",
    "lrsmoker.fit(smoker_yes_train,y_train)\n",
    "y_pred_smoker_yes=lrsmoker.predict(smoker_yes_test)\n",
    "\n",
    "print(r2_score(y_test,y_pred_smoker_yes))"
   ]
  },
  {
   "cell_type": "markdown",
   "id": "3e69a29a",
   "metadata": {},
   "source": [
    "we get 65.05% score.which is highest than age and bmi over chares"
   ]
  },
  {
   "cell_type": "markdown",
   "id": "5e327f11",
   "metadata": {},
   "source": [
    "**Conclusion** : like we previously noticed smoking is the greatest factor that affects medical cost charges, then it's bmi and age."
   ]
  },
  {
   "cell_type": "code",
   "execution_count": null,
   "id": "df31e9bc",
   "metadata": {},
   "outputs": [],
   "source": []
  }
 ],
 "metadata": {
  "kernelspec": {
   "display_name": "Python 3 (ipykernel)",
   "language": "python",
   "name": "python3"
  },
  "language_info": {
   "codemirror_mode": {
    "name": "ipython",
    "version": 3
   },
   "file_extension": ".py",
   "mimetype": "text/x-python",
   "name": "python",
   "nbconvert_exporter": "python",
   "pygments_lexer": "ipython3",
   "version": "3.9.12"
  }
 },
 "nbformat": 4,
 "nbformat_minor": 5
}
